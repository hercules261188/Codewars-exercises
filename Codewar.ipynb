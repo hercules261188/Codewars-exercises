{
 "cells": [
  {
   "cell_type": "code",
   "execution_count": null,
   "id": "096dc0c5",
   "metadata": {},
   "outputs": [],
   "source": [
    "#weight for weight \n",
    "#\"56 65 74 100 99 68 86 180 90\" ordered by numbers weights becomes: \n",
    "\n",
    "#\"100 180 90 56 65 74 68 86 99\"\n",
    "    "
   ]
  },
  {
   "cell_type": "code",
   "execution_count": 35,
   "id": "a44c424e",
   "metadata": {},
   "outputs": [
    {
     "data": {
      "text/plain": [
       "[100, 180, 90, 56, 65, 74, 68, 86, 99]"
      ]
     },
     "execution_count": 35,
     "metadata": {},
     "output_type": "execute_result"
    }
   ],
   "source": [
    "strng = [56,65,74,100,99,68,86,180,90]\n",
    "strng1 = ['0', ' ', '1', '2', '3', '4', '9']\n",
    "def order_weight(strng):\n",
    "    digit_list = [sum(int(digit) for digit in str(number)) for number in strng]\n",
    "    dic = dict(zip(strng,digit_list))\n",
    "    return sorted(dic,key=dic.get)\n",
    "\n",
    "order_weight(strng)\n",
    "    "
   ]
  },
  {
   "cell_type": "code",
   "execution_count": 10,
   "id": "8c60b7b4",
   "metadata": {},
   "outputs": [
    {
     "data": {
      "text/plain": [
       "['100', '180', '90', '56', '65', '74', '68', '86', '99']"
      ]
     },
     "execution_count": 10,
     "metadata": {},
     "output_type": "execute_result"
    }
   ],
   "source": [
    "strng1 = ['56', ' ', '65', '74', '100', '99', '68','86','180','90']\n",
    "strng1 = [i for i in strng1 if i and i != ' ']\n",
    "digit_list = [sum(int(digit) for digit in number) for number in strng1 if number != ' ' and number != '']\n",
    "dic = dict(zip(strng1,digit_list))\n",
    "sorted(dic,key=dic.get)\n",
    "\n",
    "def order_weight(strng):\n",
    "    strng = [i for i in strng if i and i != ' ']\n",
    "    digit_list = [sum(int(digit) for digit in number) for number in strng if number != ' ' and number != '']\n",
    "    dic = dict(zip(strng,digit_list))\n",
    "    return sorted(dic,key=dic.get)"
   ]
  },
  {
   "cell_type": "code",
   "execution_count": 7,
   "id": "a32bcfc3",
   "metadata": {},
   "outputs": [
    {
     "data": {
      "text/plain": [
       "['GeeksforGeeks', 'is', 'best']"
      ]
     },
     "execution_count": 7,
     "metadata": {},
     "output_type": "execute_result"
    }
   ],
   "source": [
    "test_list = [\"\", \"GeeksforGeeks\", \" \", \"is\", \"best\", \"\"]\n",
    "test_list = [i for i in test_list if i and i != ' ']\n",
    "test_list"
   ]
  },
  {
   "cell_type": "code",
   "execution_count": 11,
   "id": "13abd977",
   "metadata": {},
   "outputs": [
    {
     "data": {
      "text/plain": [
       "['0', '1', '2', '3', '4', '9']"
      ]
     },
     "execution_count": 11,
     "metadata": {},
     "output_type": "execute_result"
    }
   ],
   "source": [
    "strng = ['0', '1', '2', '3', '4', '9']\n",
    "def order_weight(strng):\n",
    "    strng = [i for i in strng if i and i != ' ']\n",
    "    digit_list = [sum(int(digit) for digit in number) for number in strng if number != ' ' and number != '']\n",
    "    dic = dict(zip(strng,digit_list))\n",
    "    return sorted(dic,key=dic.get)\n",
    "order_weight(strng)"
   ]
  },
  {
   "cell_type": "code",
   "execution_count": null,
   "id": "9ace6f96",
   "metadata": {},
   "outputs": [],
   "source": [
    "def order_weight(strng):\n",
    "    # your code\n",
    "    bar = sorted(strng.split(' '))\n",
    "    baz = sorted(bar, key=foo)\n",
    "    return \" \".join(baz)\n",
    "    \n",
    "    \n",
    "def foo(n):\n",
    "  return sum([int(item) for item in n])"
   ]
  },
  {
   "cell_type": "code",
   "execution_count": 14,
   "id": "206d27b8",
   "metadata": {},
   "outputs": [
    {
     "name": "stdout",
     "output_type": "stream",
     "text": [
      "['100', '180', '56', '65', '68', '74', '86', '90', '99']\n"
     ]
    }
   ],
   "source": [
    "strng = '56    65 74 100 99 68 86 180 90'\n",
    "def sum_string(s):\n",
    "    sum = 0\n",
    "    for digit in s:\n",
    "        sum += int(digit)\n",
    "    return sum\n",
    "\n",
    "def order_weight(strng):\n",
    "    # your code\n",
    "    initial_list = sorted(strng.split())\n",
    "    result = \" \".join(sorted(initial_list, key=sum_string))\n",
    "    \n",
    "    return result\n",
    "order_weight(strng)\n",
    "print(sorted(strng.split()))"
   ]
  },
  {
   "cell_type": "code",
   "execution_count": 25,
   "id": "e731cca3",
   "metadata": {},
   "outputs": [
    {
     "data": {
      "text/plain": [
       "False"
      ]
     },
     "execution_count": 25,
     "metadata": {},
     "output_type": "execute_result"
    }
   ],
   "source": [
    "import math\n",
    "def is_square(n):    \n",
    "    if n > 0:\n",
    "        return (n / int(math.sqrt(n))) == (math.sqrt(n)) \n",
    "    elif n == 0:\n",
    "        return True\n",
    "    elif n < 0:\n",
    "        return False\n",
    "is_square(3)"
   ]
  },
  {
   "cell_type": "code",
   "execution_count": 31,
   "id": "fb92a661",
   "metadata": {},
   "outputs": [
    {
     "data": {
      "text/plain": [
       "True"
      ]
     },
     "execution_count": 31,
     "metadata": {},
     "output_type": "execute_result"
    }
   ],
   "source": [
    "import math\n",
    "def is_square(n):\n",
    "    return n > -1 and math.sqrt(n) % 1 == 0;\n",
    "\n",
    "is_square(3481)"
   ]
  },
  {
   "cell_type": "code",
   "execution_count": 32,
   "id": "a9cac81b",
   "metadata": {},
   "outputs": [],
   "source": [
    "#DNA_strand (\"ATTGC\") # return \"TAACG\"\n",
    "#DNA_strand (\"GTAT\") # return \"CATA\"\n",
    "#In DNA strings, symbols \"A\" and \"T\" are complements of each other, as \"C\" and \"G\". You have function with one side of the DNA (string, except for Haskell); you need to get the other complementary side. DNA strand is never empty or there is no DNA at all (again, except for Haskell)."
   ]
  },
  {
   "cell_type": "code",
   "execution_count": 54,
   "id": "76558c0b",
   "metadata": {},
   "outputs": [
    {
     "data": {
      "text/plain": [
       "'GTAT'"
      ]
     },
     "execution_count": 54,
     "metadata": {},
     "output_type": "execute_result"
    }
   ],
   "source": [
    "def DNA_strand(dna):\n",
    "    output =''\n",
    "    for i in dna:\n",
    "        if i == 'A':\n",
    "            output += 'T'\n",
    "        elif i == 'T':\n",
    "            output += 'A'\n",
    "        elif i == \"G\":\n",
    "            output += 'C'\n",
    "        elif i == 'C':\n",
    "            output += 'G'\n",
    "    return output\n",
    "DNA_strand('CATA')"
   ]
  },
  {
   "cell_type": "code",
   "execution_count": null,
   "id": "759efb51",
   "metadata": {},
   "outputs": [],
   "source": [
    "def DNA_strand(dna):\n",
    "    # code here\n",
    "    output = ''\n",
    "    for d in dna:\n",
    "        if d == 'A':\n",
    "            output += 'T'\n",
    "        elif d == 'T':\n",
    "            output += 'A'\n",
    "        elif d == 'G':\n",
    "            output += 'C'\n",
    "        elif d == 'C':\n",
    "            output += 'G'\n",
    "    return output"
   ]
  }
 ],
 "metadata": {
  "kernelspec": {
   "display_name": "Python 3",
   "language": "python",
   "name": "python3"
  },
  "language_info": {
   "codemirror_mode": {
    "name": "ipython",
    "version": 3
   },
   "file_extension": ".py",
   "mimetype": "text/x-python",
   "name": "python",
   "nbconvert_exporter": "python",
   "pygments_lexer": "ipython3",
   "version": "3.8.8"
  }
 },
 "nbformat": 4,
 "nbformat_minor": 5
}
